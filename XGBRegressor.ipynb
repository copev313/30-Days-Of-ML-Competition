{
  "nbformat": 4,
  "nbformat_minor": 2,
  "metadata": {
    "colab": {
      "name": "Random Forest Regressor.ipynb",
      "provenance": [],
      "collapsed_sections": [],
      "toc_visible": true
    },
    "kernelspec": {
      "name": "python3",
      "display_name": "Python 3.8.5 64-bit ('env': venv)"
    },
    "language_info": {
      "name": "python",
      "version": "3.8.5",
      "mimetype": "text/x-python",
      "codemirror_mode": {
        "name": "ipython",
        "version": 3
      },
      "pygments_lexer": "ipython3",
      "nbconvert_exporter": "python",
      "file_extension": ".py"
    },
    "interpreter": {
      "hash": "14340f754b41834c2dbd9cd598ec993977c6495f150c989a5de2670d1c99958c"
    }
  },
  "cells": [
    {
      "cell_type": "markdown",
      "source": [
        "# 30 Days of ML Competition\n",
        "---"
      ],
      "metadata": {
        "id": "Ok47I272TGWY"
      }
    },
    {
      "cell_type": "markdown",
      "source": [
        "### **Step 1: Import Libraries**"
      ],
      "metadata": {
        "id": "i7_V_KauUKsD"
      }
    },
    {
      "cell_type": "code",
      "execution_count": 2,
      "source": [
        "#!pip install numpy pandas scikit-learn xgboost keras --quiet"
      ],
      "outputs": [],
      "metadata": {
        "id": "v35wezvpSJDJ"
      }
    },
    {
      "cell_type": "code",
      "execution_count": 1,
      "source": [
        "import numpy as np\r\n",
        "import pandas as pd\r\n",
        "\r\n",
        "from sklearn.impute import SimpleImputer\r\n",
        "from sklearn.pipeline import Pipeline\r\n",
        "from sklearn.preprocessing import OneHotEncoder, OrdinalEncoder\r\n",
        "from sklearn.compose import ColumnTransformer\r\n",
        "from sklearn.model_selection import (train_test_split, cross_val_score, KFold,\r\n",
        "                                     RandomizedSearchCV, GridSearchCV)\r\n",
        "from sklearn.metrics import mean_squared_error\r\n",
        "from sklearn.ensemble import RandomForestRegressor\r\n",
        "\r\n",
        "from xgboost import XGBRegressor\r\n"
      ],
      "outputs": [],
      "metadata": {
        "id": "INYJMKCNTN1o"
      }
    },
    {
      "cell_type": "markdown",
      "source": [
        "---\n",
        "\n",
        "### **Step 2: Load the Data**\n"
      ],
      "metadata": {
        "id": "KcsIaChVUTf9"
      }
    },
    {
      "cell_type": "code",
      "execution_count": 2,
      "source": [
        "# Load the training data:\r\n",
        "training_df = pd.read_csv(\"data/train.csv\", index_col=0)\r\n",
        "testing_df = pd.read_csv(\"data/test.csv\", index_col=0)\r\n",
        "\r\n",
        "# Preview the data:\r\n",
        "print(training_df.head())"
      ],
      "outputs": [
        {
          "output_type": "stream",
          "name": "stdout",
          "text": [
            "   cat0 cat1 cat2 cat3 cat4 cat5 cat6 cat7 cat8 cat9  ...     cont5     cont6  \\\n",
            "id                                                    ...                       \n",
            "1     B    B    B    C    B    B    A    E    C    N  ...  0.400361  0.160266   \n",
            "2     B    B    A    A    B    D    A    F    A    O  ...  0.533087  0.558922   \n",
            "3     A    A    A    C    B    D    A    D    A    F  ...  0.650609  0.375348   \n",
            "4     B    B    A    C    B    D    A    E    C    K  ...  0.668980  0.239061   \n",
            "6     A    A    A    C    B    D    A    E    A    N  ...  0.686964  0.420667   \n",
            "\n",
            "       cont7     cont8     cont9    cont10    cont11    cont12    cont13  \\\n",
            "id                                                                         \n",
            "1   0.310921  0.389470  0.267559  0.237281  0.377873  0.322401  0.869850   \n",
            "2   0.516294  0.594928  0.341439  0.906013  0.921701  0.261975  0.465083   \n",
            "3   0.902567  0.555205  0.843531  0.748809  0.620126  0.541474  0.763846   \n",
            "4   0.732948  0.679618  0.574844  0.346010  0.714610  0.540150  0.280682   \n",
            "6   0.648182  0.684501  0.956692  1.000773  0.776742  0.625849  0.250823   \n",
            "\n",
            "      target  \n",
            "id            \n",
            "1   8.113634  \n",
            "2   8.481233  \n",
            "3   8.364351  \n",
            "4   8.049253  \n",
            "6   7.972260  \n",
            "\n",
            "[5 rows x 25 columns]\n"
          ]
        }
      ],
      "metadata": {
        "colab": {
          "base_uri": "https://localhost:8080/"
        },
        "id": "51JC1MlbUZeD",
        "outputId": "75a3cc3f-d515-4459-d2a7-6def6b99710f"
      }
    },
    {
      "cell_type": "code",
      "execution_count": 3,
      "source": [
        "\r\n",
        "# Seperate the Data from the Target:\r\n",
        "y = training_df[\"target\"]\r\n",
        "features = training_df.drop([\"target\"], axis=1)\r\n",
        "\r\n",
        "# Drop noise features:\r\n",
        "dropped_features = [\"cat0\", \"cat1\", \"cat2\", \"cat3\", \"cat4\", \"cat6\", \"cat7\", 'cat9']\r\n",
        "features = features.drop(dropped_features, axis=1)\r\n",
        "\r\n",
        "#Add features:\r\n",
        "features[\"cat1_A\"] = training_df[\"cat1\"].apply(lambda x: 1 if x == \"A\" else 0)\r\n",
        "features[\"cat8_C\"] = training_df[\"cat8\"].apply(lambda x: 1 if x == \"C\" else 0)\r\n",
        "features[\"cat8_E\"] = training_df[\"cat8\"].apply(lambda x: 1 if x == \"E\" else 0)\r\n",
        "\r\n",
        "\r\n",
        "print(features.head())"
      ],
      "outputs": [
        {
          "output_type": "stream",
          "name": "stdout",
          "text": [
            "   cat5 cat8     cont0     cont1     cont2     cont3     cont4     cont5  \\\n",
            "id                                                                         \n",
            "1     B    C  0.201470 -0.014822  0.669699  0.136278  0.610706  0.400361   \n",
            "2     D    A  0.743068  0.367411  1.021605  0.365798  0.276853  0.533087   \n",
            "3     D    A  0.742708  0.310383 -0.012673  0.576957  0.285074  0.650609   \n",
            "4     D    C  0.429551  0.620998  0.577942  0.280610  0.284667  0.668980   \n",
            "6     D    A  1.058291  0.367492 -0.052389  0.232407  0.287595  0.686964   \n",
            "\n",
            "       cont6     cont7     cont8     cont9    cont10    cont11    cont12  \\\n",
            "id                                                                         \n",
            "1   0.160266  0.310921  0.389470  0.267559  0.237281  0.377873  0.322401   \n",
            "2   0.558922  0.516294  0.594928  0.341439  0.906013  0.921701  0.261975   \n",
            "3   0.375348  0.902567  0.555205  0.843531  0.748809  0.620126  0.541474   \n",
            "4   0.239061  0.732948  0.679618  0.574844  0.346010  0.714610  0.540150   \n",
            "6   0.420667  0.648182  0.684501  0.956692  1.000773  0.776742  0.625849   \n",
            "\n",
            "      cont13  cat1_A  cat8_C  cat8_E  \n",
            "id                                    \n",
            "1   0.869850       0       1       0  \n",
            "2   0.465083       0       0       0  \n",
            "3   0.763846       1       0       0  \n",
            "4   0.280682       0       1       0  \n",
            "6   0.250823       1       0       0  \n"
          ]
        }
      ],
      "metadata": {
        "colab": {
          "base_uri": "https://localhost:8080/"
        },
        "id": "-5AgJfZJVmza",
        "outputId": "507b0ef1-8cc3-4fa2-c875-ff7048e9c7cb"
      }
    },
    {
      "cell_type": "markdown",
      "source": [
        "---\n",
        "### **Step 3: Prepare the Data**"
      ],
      "metadata": {
        "id": "jg1-Lf-zWJx4"
      }
    },
    {
      "cell_type": "markdown",
      "source": [
        "#### Seperate Our Variable Types:"
      ],
      "metadata": {
        "id": "GHl8lcveYdP-"
      }
    },
    {
      "cell_type": "code",
      "execution_count": 4,
      "source": [
        "# List of the categorical columns:\r\n",
        "#categorical_cols = [col for col in features.columns if 'cat' in col]\r\n",
        "categorical_cols = ['cat5', 'cat8']\r\n",
        "\r\n",
        "#-----------------------------------------------------------------------\r\n",
        "\r\n",
        "# List of the numerical columns:\r\n",
        "number_cols = [col for col in features.columns if 'cat' not in col]\r\n",
        "\r\n",
        "#-----------------------------------------------------------------------\r\n",
        "\r\n",
        "# Additional binary features:\r\n",
        "binary_cols = ['cat1_A', 'cat8_C', 'cat8_E']"
      ],
      "outputs": [],
      "metadata": {
        "id": "VKFo3aEZWO_z"
      }
    },
    {
      "cell_type": "markdown",
      "source": [
        "#### Create Preproprocessing Transformers"
      ],
      "metadata": {
        "id": "AkHORuzuYjnh"
      }
    },
    {
      "cell_type": "code",
      "execution_count": 5,
      "source": [
        "# Preprocess categorical data:\r\n",
        "category_transformer = Pipeline(\r\n",
        "    steps=[\r\n",
        "      ('imputer', SimpleImputer(strategy='most_frequent')),\r\n",
        "      ('ordinal', OrdinalEncoder()),\r\n",
        "    ]\r\n",
        ")\r\n",
        "\r\n",
        "\r\n",
        "# Preprocess numerical data:\r\n",
        "number_transformer = Pipeline(\r\n",
        "    steps=[\r\n",
        "      ('simple', SimpleImputer(strategy='constant')),\r\n",
        "    ]\r\n",
        ")\r\n"
      ],
      "outputs": [],
      "metadata": {
        "id": "WH-o1zczYg2B"
      }
    },
    {
      "cell_type": "code",
      "execution_count": 6,
      "source": [
        "# Combine the preprocessing steps into column transformer:\r\n",
        "preprocessor = ColumnTransformer(\r\n",
        "    transformers=[\r\n",
        "      ('cat', category_transformer, categorical_cols),\r\n",
        "      ('num', number_transformer, number_cols),\r\n",
        "    ]\r\n",
        ")"
      ],
      "outputs": [],
      "metadata": {
        "id": "Oy-VqAyhZ74T"
      }
    },
    {
      "cell_type": "markdown",
      "source": [
        "#### Copy Our DataFrames"
      ],
      "metadata": {
        "id": "AYbiLJlZaH7Z"
      }
    },
    {
      "cell_type": "code",
      "execution_count": 7,
      "source": [
        "X = features.copy()\r\n",
        "X_test = testing_df.copy()\r\n"
      ],
      "outputs": [],
      "metadata": {
        "id": "KFG_FJvTaMrY"
      }
    },
    {
      "cell_type": "markdown",
      "source": [
        "#### Split the Data Into Training & Validation Sets"
      ],
      "metadata": {
        "id": "FlpqGgLgaWpb"
      }
    },
    {
      "cell_type": "code",
      "execution_count": 8,
      "source": [
        "# Split data:\r\n",
        "X_train, X_validate, y_train, y_validate = train_test_split(\r\n",
        "    X, y,\r\n",
        "    test_size=0.25,\r\n",
        "    random_state=0\r\n",
        ")\r\n"
      ],
      "outputs": [],
      "metadata": {
        "id": "SavCpBIuabO3"
      }
    },
    {
      "cell_type": "markdown",
      "source": [
        "---\n",
        "\n",
        "### **Step 4: Setting Up & Training the Model**"
      ],
      "metadata": {
        "id": "cIuOmR1cbGu9"
      }
    },
    {
      "cell_type": "code",
      "execution_count": 10,
      "source": [
        "\r\n",
        "# Create the random grid:\r\n",
        "params = {\r\n",
        "        #'max_depth': [10, 20, 30, 40, 50, 60],\r\n",
        "        'min_child_weight': [5, 7, 10, 15, 20, 25],\r\n",
        "}\r\n",
        "\r\n",
        "print(params)\r\n",
        "\r\n",
        "X_validate_processed = preprocessor.fit_transform(X_validate)\r\n",
        "# Configure the model to use GPU:\r\n",
        "xgb_reg = XGBRegressor(n_estimators=1000,\r\n",
        "                       learning_rate=0.03,\r\n",
        "                       #tree_method='gpu_hist',\r\n",
        "                       #gpu_id=0,\r\n",
        "                       min_split_loss=0.06,\r\n",
        "                       colsample_bytree=0.3,\r\n",
        "                       objective='reg:squarederror',\r\n",
        "                       subsample=0.85,\r\n",
        "                      \r\n",
        ")\r\n",
        "\r\n",
        "# Random search of parameters, using 3 fold cross validation\r\n",
        "xgb_grid = GridSearchCV(\r\n",
        "    estimator=xgb_reg,\r\n",
        "    param_grid=params,\r\n",
        "    scoring='neg_root_mean_squared_error',\r\n",
        "    cv=2,\r\n",
        "    verbose=2,\r\n",
        "    n_jobs=-1,\r\n",
        ")\r\n",
        "\r\n",
        "# Preprocess training data:\r\n",
        "X_processed = preprocessor.fit_transform(X_train)\r\n"
      ],
      "outputs": [
        {
          "output_type": "stream",
          "name": "stdout",
          "text": [
            "{'min_child_weight': [5, 7, 10, 15, 20, 25, 30]}\n"
          ]
        }
      ],
      "metadata": {
        "id": "Mcc6HC8UbQ8_"
      }
    },
    {
      "cell_type": "code",
      "execution_count": 11,
      "source": [
        "# Fit the Random Search model:\r\n",
        "xgb_grid.fit(X_processed, y_train)\r\n",
        "\r\n",
        "# See the best params from fitting the random search:\r\n",
        "print(xgb_grid.best_params_)"
      ],
      "outputs": [
        {
          "output_type": "stream",
          "name": "stdout",
          "text": [
            "Fitting 2 folds for each of 7 candidates, totalling 14 fits\n"
          ]
        },
        {
          "output_type": "stream",
          "name": "stderr",
          "text": [
            "exception calling callback for <Future at 0x1efd39410a0 state=finished raised BrokenProcessPool>\n",
            "joblib.externals.loky.process_executor._RemoteTraceback: \n",
            "\"\"\"\n",
            "Traceback (most recent call last):\n",
            "  File \"c:\\Users\\evan.cope\\Documents\\GitHub\\30-Days-Of-ML-Competition\\env\\lib\\site-packages\\joblib\\externals\\loky\\process_executor.py\", line 404, in _process_worker\n",
            "    call_item = call_queue.get(block=True, timeout=timeout)\n",
            "  File \"C:\\Python38\\lib\\multiprocessing\\queues.py\", line 116, in get\n",
            "    return _ForkingPickler.loads(res)\n",
            "  File \"c:\\Users\\evan.cope\\Documents\\GitHub\\30-Days-Of-ML-Competition\\env\\lib\\site-packages\\xgboost\\__init__.py\", line 9, in <module>\n",
            "    from .core import DMatrix, DeviceQuantileDMatrix, Booster\n",
            "  File \"c:\\Users\\evan.cope\\Documents\\GitHub\\30-Days-Of-ML-Competition\\env\\lib\\site-packages\\xgboost\\core.py\", line 195, in <module>\n",
            "    _LIB = _load_lib()\n",
            "  File \"c:\\Users\\evan.cope\\Documents\\GitHub\\30-Days-Of-ML-Competition\\env\\lib\\site-packages\\xgboost\\core.py\", line 178, in _load_lib\n",
            "    raise XGBoostError(\n",
            "xgboost.core.XGBoostError: XGBoost Library (xgboost.dll) could not be loaded.\n",
            "Likely causes:\n",
            "  * OpenMP runtime is not installed (vcomp140.dll or libgomp-1.dll for Windows, libomp.dylib for Mac OSX, libgomp.so for Linux and other UNIX-like OSes). Mac OSX users: Run `brew install libomp` to install OpenMP runtime.\n",
            "  * You are running 32-bit Python on a 64-bit OS\n",
            "Error message(s): ['[WinError 1455] The paging file is too small for this operation to complete']\n",
            "\n",
            "\"\"\"\n",
            "\n",
            "The above exception was the direct cause of the following exception:\n",
            "\n",
            "Traceback (most recent call last):\n",
            "  File \"c:\\Users\\evan.cope\\Documents\\GitHub\\30-Days-Of-ML-Competition\\env\\lib\\site-packages\\joblib\\externals\\loky\\_base.py\", line 625, in _invoke_callbacks\n",
            "    callback(self)\n",
            "  File \"c:\\Users\\evan.cope\\Documents\\GitHub\\30-Days-Of-ML-Competition\\env\\lib\\site-packages\\joblib\\parallel.py\", line 359, in __call__\n",
            "    self.parallel.dispatch_next()\n",
            "  File \"c:\\Users\\evan.cope\\Documents\\GitHub\\30-Days-Of-ML-Competition\\env\\lib\\site-packages\\joblib\\parallel.py\", line 792, in dispatch_next\n",
            "    if not self.dispatch_one_batch(self._original_iterator):\n",
            "  File \"c:\\Users\\evan.cope\\Documents\\GitHub\\30-Days-Of-ML-Competition\\env\\lib\\site-packages\\joblib\\parallel.py\", line 859, in dispatch_one_batch\n",
            "    self._dispatch(tasks)\n",
            "  File \"c:\\Users\\evan.cope\\Documents\\GitHub\\30-Days-Of-ML-Competition\\env\\lib\\site-packages\\joblib\\parallel.py\", line 777, in _dispatch\n",
            "    job = self._backend.apply_async(batch, callback=cb)\n",
            "  File \"c:\\Users\\evan.cope\\Documents\\GitHub\\30-Days-Of-ML-Competition\\env\\lib\\site-packages\\joblib\\_parallel_backends.py\", line 531, in apply_async\n",
            "    future = self._workers.submit(SafeFunction(func))\n",
            "  File \"c:\\Users\\evan.cope\\Documents\\GitHub\\30-Days-Of-ML-Competition\\env\\lib\\site-packages\\joblib\\externals\\loky\\reusable_executor.py\", line 177, in submit\n",
            "    return super(_ReusablePoolExecutor, self).submit(\n",
            "  File \"c:\\Users\\evan.cope\\Documents\\GitHub\\30-Days-Of-ML-Competition\\env\\lib\\site-packages\\joblib\\externals\\loky\\process_executor.py\", line 1102, in submit\n",
            "    raise self._flags.broken\n",
            "joblib.externals.loky.process_executor.BrokenProcessPool: A task has failed to un-serialize. Please ensure that the arguments of the function are all picklable.\n"
          ]
        },
        {
          "output_type": "error",
          "ename": "BrokenProcessPool",
          "evalue": "A task has failed to un-serialize. Please ensure that the arguments of the function are all picklable.",
          "traceback": [
            "\u001b[1;31m---------------------------------------------------------------------------\u001b[0m",
            "\u001b[1;31m_RemoteTraceback\u001b[0m                          Traceback (most recent call last)",
            "\u001b[1;31m_RemoteTraceback\u001b[0m: \n\"\"\"\nTraceback (most recent call last):\n  File \"c:\\Users\\evan.cope\\Documents\\GitHub\\30-Days-Of-ML-Competition\\env\\lib\\site-packages\\joblib\\externals\\loky\\process_executor.py\", line 404, in _process_worker\n    call_item = call_queue.get(block=True, timeout=timeout)\n  File \"C:\\Python38\\lib\\multiprocessing\\queues.py\", line 116, in get\n    return _ForkingPickler.loads(res)\n  File \"c:\\Users\\evan.cope\\Documents\\GitHub\\30-Days-Of-ML-Competition\\env\\lib\\site-packages\\xgboost\\__init__.py\", line 9, in <module>\n    from .core import DMatrix, DeviceQuantileDMatrix, Booster\n  File \"c:\\Users\\evan.cope\\Documents\\GitHub\\30-Days-Of-ML-Competition\\env\\lib\\site-packages\\xgboost\\core.py\", line 195, in <module>\n    _LIB = _load_lib()\n  File \"c:\\Users\\evan.cope\\Documents\\GitHub\\30-Days-Of-ML-Competition\\env\\lib\\site-packages\\xgboost\\core.py\", line 178, in _load_lib\n    raise XGBoostError(\nxgboost.core.XGBoostError: XGBoost Library (xgboost.dll) could not be loaded.\nLikely causes:\n  * OpenMP runtime is not installed (vcomp140.dll or libgomp-1.dll for Windows, libomp.dylib for Mac OSX, libgomp.so for Linux and other UNIX-like OSes). Mac OSX users: Run `brew install libomp` to install OpenMP runtime.\n  * You are running 32-bit Python on a 64-bit OS\nError message(s): ['[WinError 1455] The paging file is too small for this operation to complete']\n\n\"\"\"",
            "\nThe above exception was the direct cause of the following exception:\n",
            "\u001b[1;31mBrokenProcessPool\u001b[0m                         Traceback (most recent call last)",
            "\u001b[1;32mC:\\Users\\EVAN~1.COP\\AppData\\Local\\Temp/ipykernel_12548/462855678.py\u001b[0m in \u001b[0;36m<module>\u001b[1;34m\u001b[0m\n\u001b[0;32m      1\u001b[0m \u001b[1;31m# Fit the Random Search model:\u001b[0m\u001b[1;33m\u001b[0m\u001b[1;33m\u001b[0m\u001b[1;33m\u001b[0m\u001b[0m\n\u001b[1;32m----> 2\u001b[1;33m \u001b[0mxgb_grid\u001b[0m\u001b[1;33m.\u001b[0m\u001b[0mfit\u001b[0m\u001b[1;33m(\u001b[0m\u001b[0mX_processed\u001b[0m\u001b[1;33m,\u001b[0m \u001b[0my_train\u001b[0m\u001b[1;33m)\u001b[0m\u001b[1;33m\u001b[0m\u001b[1;33m\u001b[0m\u001b[0m\n\u001b[0m\u001b[0;32m      3\u001b[0m \u001b[1;33m\u001b[0m\u001b[0m\n\u001b[0;32m      4\u001b[0m \u001b[1;31m# See the best params from fitting the random search:\u001b[0m\u001b[1;33m\u001b[0m\u001b[1;33m\u001b[0m\u001b[1;33m\u001b[0m\u001b[0m\n\u001b[0;32m      5\u001b[0m \u001b[0mprint\u001b[0m\u001b[1;33m(\u001b[0m\u001b[0mxgb_grid\u001b[0m\u001b[1;33m.\u001b[0m\u001b[0mbest_params_\u001b[0m\u001b[1;33m)\u001b[0m\u001b[1;33m\u001b[0m\u001b[1;33m\u001b[0m\u001b[0m\n",
            "\u001b[1;32mc:\\Users\\evan.cope\\Documents\\GitHub\\30-Days-Of-ML-Competition\\env\\lib\\site-packages\\sklearn\\utils\\validation.py\u001b[0m in \u001b[0;36minner_f\u001b[1;34m(*args, **kwargs)\u001b[0m\n\u001b[0;32m     61\u001b[0m             \u001b[0mextra_args\u001b[0m \u001b[1;33m=\u001b[0m \u001b[0mlen\u001b[0m\u001b[1;33m(\u001b[0m\u001b[0margs\u001b[0m\u001b[1;33m)\u001b[0m \u001b[1;33m-\u001b[0m \u001b[0mlen\u001b[0m\u001b[1;33m(\u001b[0m\u001b[0mall_args\u001b[0m\u001b[1;33m)\u001b[0m\u001b[1;33m\u001b[0m\u001b[1;33m\u001b[0m\u001b[0m\n\u001b[0;32m     62\u001b[0m             \u001b[1;32mif\u001b[0m \u001b[0mextra_args\u001b[0m \u001b[1;33m<=\u001b[0m \u001b[1;36m0\u001b[0m\u001b[1;33m:\u001b[0m\u001b[1;33m\u001b[0m\u001b[1;33m\u001b[0m\u001b[0m\n\u001b[1;32m---> 63\u001b[1;33m                 \u001b[1;32mreturn\u001b[0m \u001b[0mf\u001b[0m\u001b[1;33m(\u001b[0m\u001b[1;33m*\u001b[0m\u001b[0margs\u001b[0m\u001b[1;33m,\u001b[0m \u001b[1;33m**\u001b[0m\u001b[0mkwargs\u001b[0m\u001b[1;33m)\u001b[0m\u001b[1;33m\u001b[0m\u001b[1;33m\u001b[0m\u001b[0m\n\u001b[0m\u001b[0;32m     64\u001b[0m \u001b[1;33m\u001b[0m\u001b[0m\n\u001b[0;32m     65\u001b[0m             \u001b[1;31m# extra_args > 0\u001b[0m\u001b[1;33m\u001b[0m\u001b[1;33m\u001b[0m\u001b[1;33m\u001b[0m\u001b[0m\n",
            "\u001b[1;32mc:\\Users\\evan.cope\\Documents\\GitHub\\30-Days-Of-ML-Competition\\env\\lib\\site-packages\\sklearn\\model_selection\\_search.py\u001b[0m in \u001b[0;36mfit\u001b[1;34m(self, X, y, groups, **fit_params)\u001b[0m\n\u001b[0;32m    839\u001b[0m                 \u001b[1;32mreturn\u001b[0m \u001b[0mresults\u001b[0m\u001b[1;33m\u001b[0m\u001b[1;33m\u001b[0m\u001b[0m\n\u001b[0;32m    840\u001b[0m \u001b[1;33m\u001b[0m\u001b[0m\n\u001b[1;32m--> 841\u001b[1;33m             \u001b[0mself\u001b[0m\u001b[1;33m.\u001b[0m\u001b[0m_run_search\u001b[0m\u001b[1;33m(\u001b[0m\u001b[0mevaluate_candidates\u001b[0m\u001b[1;33m)\u001b[0m\u001b[1;33m\u001b[0m\u001b[1;33m\u001b[0m\u001b[0m\n\u001b[0m\u001b[0;32m    842\u001b[0m \u001b[1;33m\u001b[0m\u001b[0m\n\u001b[0;32m    843\u001b[0m             \u001b[1;31m# multimetric is determined here because in the case of a callable\u001b[0m\u001b[1;33m\u001b[0m\u001b[1;33m\u001b[0m\u001b[1;33m\u001b[0m\u001b[0m\n",
            "\u001b[1;32mc:\\Users\\evan.cope\\Documents\\GitHub\\30-Days-Of-ML-Competition\\env\\lib\\site-packages\\sklearn\\model_selection\\_search.py\u001b[0m in \u001b[0;36m_run_search\u001b[1;34m(self, evaluate_candidates)\u001b[0m\n\u001b[0;32m   1294\u001b[0m     \u001b[1;32mdef\u001b[0m \u001b[0m_run_search\u001b[0m\u001b[1;33m(\u001b[0m\u001b[0mself\u001b[0m\u001b[1;33m,\u001b[0m \u001b[0mevaluate_candidates\u001b[0m\u001b[1;33m)\u001b[0m\u001b[1;33m:\u001b[0m\u001b[1;33m\u001b[0m\u001b[1;33m\u001b[0m\u001b[0m\n\u001b[0;32m   1295\u001b[0m         \u001b[1;34m\"\"\"Search all candidates in param_grid\"\"\"\u001b[0m\u001b[1;33m\u001b[0m\u001b[1;33m\u001b[0m\u001b[0m\n\u001b[1;32m-> 1296\u001b[1;33m         \u001b[0mevaluate_candidates\u001b[0m\u001b[1;33m(\u001b[0m\u001b[0mParameterGrid\u001b[0m\u001b[1;33m(\u001b[0m\u001b[0mself\u001b[0m\u001b[1;33m.\u001b[0m\u001b[0mparam_grid\u001b[0m\u001b[1;33m)\u001b[0m\u001b[1;33m)\u001b[0m\u001b[1;33m\u001b[0m\u001b[1;33m\u001b[0m\u001b[0m\n\u001b[0m\u001b[0;32m   1297\u001b[0m \u001b[1;33m\u001b[0m\u001b[0m\n\u001b[0;32m   1298\u001b[0m \u001b[1;33m\u001b[0m\u001b[0m\n",
            "\u001b[1;32mc:\\Users\\evan.cope\\Documents\\GitHub\\30-Days-Of-ML-Competition\\env\\lib\\site-packages\\sklearn\\model_selection\\_search.py\u001b[0m in \u001b[0;36mevaluate_candidates\u001b[1;34m(candidate_params, cv, more_results)\u001b[0m\n\u001b[0;32m    793\u001b[0m                               n_splits, n_candidates, n_candidates * n_splits))\n\u001b[0;32m    794\u001b[0m \u001b[1;33m\u001b[0m\u001b[0m\n\u001b[1;32m--> 795\u001b[1;33m                 out = parallel(delayed(_fit_and_score)(clone(base_estimator),\n\u001b[0m\u001b[0;32m    796\u001b[0m                                                        \u001b[0mX\u001b[0m\u001b[1;33m,\u001b[0m \u001b[0my\u001b[0m\u001b[1;33m,\u001b[0m\u001b[1;33m\u001b[0m\u001b[1;33m\u001b[0m\u001b[0m\n\u001b[0;32m    797\u001b[0m                                                        \u001b[0mtrain\u001b[0m\u001b[1;33m=\u001b[0m\u001b[0mtrain\u001b[0m\u001b[1;33m,\u001b[0m \u001b[0mtest\u001b[0m\u001b[1;33m=\u001b[0m\u001b[0mtest\u001b[0m\u001b[1;33m,\u001b[0m\u001b[1;33m\u001b[0m\u001b[1;33m\u001b[0m\u001b[0m\n",
            "\u001b[1;32mc:\\Users\\evan.cope\\Documents\\GitHub\\30-Days-Of-ML-Competition\\env\\lib\\site-packages\\joblib\\parallel.py\u001b[0m in \u001b[0;36m__call__\u001b[1;34m(self, iterable)\u001b[0m\n\u001b[0;32m   1052\u001b[0m \u001b[1;33m\u001b[0m\u001b[0m\n\u001b[0;32m   1053\u001b[0m             \u001b[1;32mwith\u001b[0m \u001b[0mself\u001b[0m\u001b[1;33m.\u001b[0m\u001b[0m_backend\u001b[0m\u001b[1;33m.\u001b[0m\u001b[0mretrieval_context\u001b[0m\u001b[1;33m(\u001b[0m\u001b[1;33m)\u001b[0m\u001b[1;33m:\u001b[0m\u001b[1;33m\u001b[0m\u001b[1;33m\u001b[0m\u001b[0m\n\u001b[1;32m-> 1054\u001b[1;33m                 \u001b[0mself\u001b[0m\u001b[1;33m.\u001b[0m\u001b[0mretrieve\u001b[0m\u001b[1;33m(\u001b[0m\u001b[1;33m)\u001b[0m\u001b[1;33m\u001b[0m\u001b[1;33m\u001b[0m\u001b[0m\n\u001b[0m\u001b[0;32m   1055\u001b[0m             \u001b[1;31m# Make sure that we get a last message telling us we are done\u001b[0m\u001b[1;33m\u001b[0m\u001b[1;33m\u001b[0m\u001b[1;33m\u001b[0m\u001b[0m\n\u001b[0;32m   1056\u001b[0m             \u001b[0melapsed_time\u001b[0m \u001b[1;33m=\u001b[0m \u001b[0mtime\u001b[0m\u001b[1;33m.\u001b[0m\u001b[0mtime\u001b[0m\u001b[1;33m(\u001b[0m\u001b[1;33m)\u001b[0m \u001b[1;33m-\u001b[0m \u001b[0mself\u001b[0m\u001b[1;33m.\u001b[0m\u001b[0m_start_time\u001b[0m\u001b[1;33m\u001b[0m\u001b[1;33m\u001b[0m\u001b[0m\n",
            "\u001b[1;32mc:\\Users\\evan.cope\\Documents\\GitHub\\30-Days-Of-ML-Competition\\env\\lib\\site-packages\\joblib\\parallel.py\u001b[0m in \u001b[0;36mretrieve\u001b[1;34m(self)\u001b[0m\n\u001b[0;32m    931\u001b[0m             \u001b[1;32mtry\u001b[0m\u001b[1;33m:\u001b[0m\u001b[1;33m\u001b[0m\u001b[1;33m\u001b[0m\u001b[0m\n\u001b[0;32m    932\u001b[0m                 \u001b[1;32mif\u001b[0m \u001b[0mgetattr\u001b[0m\u001b[1;33m(\u001b[0m\u001b[0mself\u001b[0m\u001b[1;33m.\u001b[0m\u001b[0m_backend\u001b[0m\u001b[1;33m,\u001b[0m \u001b[1;34m'supports_timeout'\u001b[0m\u001b[1;33m,\u001b[0m \u001b[1;32mFalse\u001b[0m\u001b[1;33m)\u001b[0m\u001b[1;33m:\u001b[0m\u001b[1;33m\u001b[0m\u001b[1;33m\u001b[0m\u001b[0m\n\u001b[1;32m--> 933\u001b[1;33m                     \u001b[0mself\u001b[0m\u001b[1;33m.\u001b[0m\u001b[0m_output\u001b[0m\u001b[1;33m.\u001b[0m\u001b[0mextend\u001b[0m\u001b[1;33m(\u001b[0m\u001b[0mjob\u001b[0m\u001b[1;33m.\u001b[0m\u001b[0mget\u001b[0m\u001b[1;33m(\u001b[0m\u001b[0mtimeout\u001b[0m\u001b[1;33m=\u001b[0m\u001b[0mself\u001b[0m\u001b[1;33m.\u001b[0m\u001b[0mtimeout\u001b[0m\u001b[1;33m)\u001b[0m\u001b[1;33m)\u001b[0m\u001b[1;33m\u001b[0m\u001b[1;33m\u001b[0m\u001b[0m\n\u001b[0m\u001b[0;32m    934\u001b[0m                 \u001b[1;32melse\u001b[0m\u001b[1;33m:\u001b[0m\u001b[1;33m\u001b[0m\u001b[1;33m\u001b[0m\u001b[0m\n\u001b[0;32m    935\u001b[0m                     \u001b[0mself\u001b[0m\u001b[1;33m.\u001b[0m\u001b[0m_output\u001b[0m\u001b[1;33m.\u001b[0m\u001b[0mextend\u001b[0m\u001b[1;33m(\u001b[0m\u001b[0mjob\u001b[0m\u001b[1;33m.\u001b[0m\u001b[0mget\u001b[0m\u001b[1;33m(\u001b[0m\u001b[1;33m)\u001b[0m\u001b[1;33m)\u001b[0m\u001b[1;33m\u001b[0m\u001b[1;33m\u001b[0m\u001b[0m\n",
            "\u001b[1;32mc:\\Users\\evan.cope\\Documents\\GitHub\\30-Days-Of-ML-Competition\\env\\lib\\site-packages\\joblib\\_parallel_backends.py\u001b[0m in \u001b[0;36mwrap_future_result\u001b[1;34m(future, timeout)\u001b[0m\n\u001b[0;32m    540\u001b[0m         AsyncResults.get from multiprocessing.\"\"\"\n\u001b[0;32m    541\u001b[0m         \u001b[1;32mtry\u001b[0m\u001b[1;33m:\u001b[0m\u001b[1;33m\u001b[0m\u001b[1;33m\u001b[0m\u001b[0m\n\u001b[1;32m--> 542\u001b[1;33m             \u001b[1;32mreturn\u001b[0m \u001b[0mfuture\u001b[0m\u001b[1;33m.\u001b[0m\u001b[0mresult\u001b[0m\u001b[1;33m(\u001b[0m\u001b[0mtimeout\u001b[0m\u001b[1;33m=\u001b[0m\u001b[0mtimeout\u001b[0m\u001b[1;33m)\u001b[0m\u001b[1;33m\u001b[0m\u001b[1;33m\u001b[0m\u001b[0m\n\u001b[0m\u001b[0;32m    543\u001b[0m         \u001b[1;32mexcept\u001b[0m \u001b[0mCfTimeoutError\u001b[0m \u001b[1;32mas\u001b[0m \u001b[0me\u001b[0m\u001b[1;33m:\u001b[0m\u001b[1;33m\u001b[0m\u001b[1;33m\u001b[0m\u001b[0m\n\u001b[0;32m    544\u001b[0m             \u001b[1;32mraise\u001b[0m \u001b[0mTimeoutError\u001b[0m \u001b[1;32mfrom\u001b[0m \u001b[0me\u001b[0m\u001b[1;33m\u001b[0m\u001b[1;33m\u001b[0m\u001b[0m\n",
            "\u001b[1;32mC:\\Python38\\lib\\concurrent\\futures\\_base.py\u001b[0m in \u001b[0;36mresult\u001b[1;34m(self, timeout)\u001b[0m\n\u001b[0;32m    437\u001b[0m                 \u001b[1;32mraise\u001b[0m \u001b[0mCancelledError\u001b[0m\u001b[1;33m(\u001b[0m\u001b[1;33m)\u001b[0m\u001b[1;33m\u001b[0m\u001b[1;33m\u001b[0m\u001b[0m\n\u001b[0;32m    438\u001b[0m             \u001b[1;32melif\u001b[0m \u001b[0mself\u001b[0m\u001b[1;33m.\u001b[0m\u001b[0m_state\u001b[0m \u001b[1;33m==\u001b[0m \u001b[0mFINISHED\u001b[0m\u001b[1;33m:\u001b[0m\u001b[1;33m\u001b[0m\u001b[1;33m\u001b[0m\u001b[0m\n\u001b[1;32m--> 439\u001b[1;33m                 \u001b[1;32mreturn\u001b[0m \u001b[0mself\u001b[0m\u001b[1;33m.\u001b[0m\u001b[0m__get_result\u001b[0m\u001b[1;33m(\u001b[0m\u001b[1;33m)\u001b[0m\u001b[1;33m\u001b[0m\u001b[1;33m\u001b[0m\u001b[0m\n\u001b[0m\u001b[0;32m    440\u001b[0m             \u001b[1;32melse\u001b[0m\u001b[1;33m:\u001b[0m\u001b[1;33m\u001b[0m\u001b[1;33m\u001b[0m\u001b[0m\n\u001b[0;32m    441\u001b[0m                 \u001b[1;32mraise\u001b[0m \u001b[0mTimeoutError\u001b[0m\u001b[1;33m(\u001b[0m\u001b[1;33m)\u001b[0m\u001b[1;33m\u001b[0m\u001b[1;33m\u001b[0m\u001b[0m\n",
            "\u001b[1;32mC:\\Python38\\lib\\concurrent\\futures\\_base.py\u001b[0m in \u001b[0;36m__get_result\u001b[1;34m(self)\u001b[0m\n\u001b[0;32m    386\u001b[0m     \u001b[1;32mdef\u001b[0m \u001b[0m__get_result\u001b[0m\u001b[1;33m(\u001b[0m\u001b[0mself\u001b[0m\u001b[1;33m)\u001b[0m\u001b[1;33m:\u001b[0m\u001b[1;33m\u001b[0m\u001b[1;33m\u001b[0m\u001b[0m\n\u001b[0;32m    387\u001b[0m         \u001b[1;32mif\u001b[0m \u001b[0mself\u001b[0m\u001b[1;33m.\u001b[0m\u001b[0m_exception\u001b[0m\u001b[1;33m:\u001b[0m\u001b[1;33m\u001b[0m\u001b[1;33m\u001b[0m\u001b[0m\n\u001b[1;32m--> 388\u001b[1;33m             \u001b[1;32mraise\u001b[0m \u001b[0mself\u001b[0m\u001b[1;33m.\u001b[0m\u001b[0m_exception\u001b[0m\u001b[1;33m\u001b[0m\u001b[1;33m\u001b[0m\u001b[0m\n\u001b[0m\u001b[0;32m    389\u001b[0m         \u001b[1;32melse\u001b[0m\u001b[1;33m:\u001b[0m\u001b[1;33m\u001b[0m\u001b[1;33m\u001b[0m\u001b[0m\n\u001b[0;32m    390\u001b[0m             \u001b[1;32mreturn\u001b[0m \u001b[0mself\u001b[0m\u001b[1;33m.\u001b[0m\u001b[0m_result\u001b[0m\u001b[1;33m\u001b[0m\u001b[1;33m\u001b[0m\u001b[0m\n",
            "\u001b[1;32mc:\\Users\\evan.cope\\Documents\\GitHub\\30-Days-Of-ML-Competition\\env\\lib\\site-packages\\joblib\\externals\\loky\\_base.py\u001b[0m in \u001b[0;36m_invoke_callbacks\u001b[1;34m(self)\u001b[0m\n\u001b[0;32m    623\u001b[0m         \u001b[1;32mfor\u001b[0m \u001b[0mcallback\u001b[0m \u001b[1;32min\u001b[0m \u001b[0mself\u001b[0m\u001b[1;33m.\u001b[0m\u001b[0m_done_callbacks\u001b[0m\u001b[1;33m:\u001b[0m\u001b[1;33m\u001b[0m\u001b[1;33m\u001b[0m\u001b[0m\n\u001b[0;32m    624\u001b[0m             \u001b[1;32mtry\u001b[0m\u001b[1;33m:\u001b[0m\u001b[1;33m\u001b[0m\u001b[1;33m\u001b[0m\u001b[0m\n\u001b[1;32m--> 625\u001b[1;33m                 \u001b[0mcallback\u001b[0m\u001b[1;33m(\u001b[0m\u001b[0mself\u001b[0m\u001b[1;33m)\u001b[0m\u001b[1;33m\u001b[0m\u001b[1;33m\u001b[0m\u001b[0m\n\u001b[0m\u001b[0;32m    626\u001b[0m             \u001b[1;32mexcept\u001b[0m \u001b[0mBaseException\u001b[0m\u001b[1;33m:\u001b[0m\u001b[1;33m\u001b[0m\u001b[1;33m\u001b[0m\u001b[0m\n\u001b[0;32m    627\u001b[0m                 \u001b[0mLOGGER\u001b[0m\u001b[1;33m.\u001b[0m\u001b[0mexception\u001b[0m\u001b[1;33m(\u001b[0m\u001b[1;34m'exception calling callback for %r'\u001b[0m\u001b[1;33m,\u001b[0m \u001b[0mself\u001b[0m\u001b[1;33m)\u001b[0m\u001b[1;33m\u001b[0m\u001b[1;33m\u001b[0m\u001b[0m\n",
            "\u001b[1;32mc:\\Users\\evan.cope\\Documents\\GitHub\\30-Days-Of-ML-Competition\\env\\lib\\site-packages\\joblib\\parallel.py\u001b[0m in \u001b[0;36m__call__\u001b[1;34m(self, out)\u001b[0m\n\u001b[0;32m    357\u001b[0m         \u001b[1;32mwith\u001b[0m \u001b[0mself\u001b[0m\u001b[1;33m.\u001b[0m\u001b[0mparallel\u001b[0m\u001b[1;33m.\u001b[0m\u001b[0m_lock\u001b[0m\u001b[1;33m:\u001b[0m\u001b[1;33m\u001b[0m\u001b[1;33m\u001b[0m\u001b[0m\n\u001b[0;32m    358\u001b[0m             \u001b[1;32mif\u001b[0m \u001b[0mself\u001b[0m\u001b[1;33m.\u001b[0m\u001b[0mparallel\u001b[0m\u001b[1;33m.\u001b[0m\u001b[0m_original_iterator\u001b[0m \u001b[1;32mis\u001b[0m \u001b[1;32mnot\u001b[0m \u001b[1;32mNone\u001b[0m\u001b[1;33m:\u001b[0m\u001b[1;33m\u001b[0m\u001b[1;33m\u001b[0m\u001b[0m\n\u001b[1;32m--> 359\u001b[1;33m                 \u001b[0mself\u001b[0m\u001b[1;33m.\u001b[0m\u001b[0mparallel\u001b[0m\u001b[1;33m.\u001b[0m\u001b[0mdispatch_next\u001b[0m\u001b[1;33m(\u001b[0m\u001b[1;33m)\u001b[0m\u001b[1;33m\u001b[0m\u001b[1;33m\u001b[0m\u001b[0m\n\u001b[0m\u001b[0;32m    360\u001b[0m \u001b[1;33m\u001b[0m\u001b[0m\n\u001b[0;32m    361\u001b[0m \u001b[1;33m\u001b[0m\u001b[0m\n",
            "\u001b[1;32mc:\\Users\\evan.cope\\Documents\\GitHub\\30-Days-Of-ML-Competition\\env\\lib\\site-packages\\joblib\\parallel.py\u001b[0m in \u001b[0;36mdispatch_next\u001b[1;34m(self)\u001b[0m\n\u001b[0;32m    790\u001b[0m \u001b[1;33m\u001b[0m\u001b[0m\n\u001b[0;32m    791\u001b[0m         \"\"\"\n\u001b[1;32m--> 792\u001b[1;33m         \u001b[1;32mif\u001b[0m \u001b[1;32mnot\u001b[0m \u001b[0mself\u001b[0m\u001b[1;33m.\u001b[0m\u001b[0mdispatch_one_batch\u001b[0m\u001b[1;33m(\u001b[0m\u001b[0mself\u001b[0m\u001b[1;33m.\u001b[0m\u001b[0m_original_iterator\u001b[0m\u001b[1;33m)\u001b[0m\u001b[1;33m:\u001b[0m\u001b[1;33m\u001b[0m\u001b[1;33m\u001b[0m\u001b[0m\n\u001b[0m\u001b[0;32m    793\u001b[0m             \u001b[0mself\u001b[0m\u001b[1;33m.\u001b[0m\u001b[0m_iterating\u001b[0m \u001b[1;33m=\u001b[0m \u001b[1;32mFalse\u001b[0m\u001b[1;33m\u001b[0m\u001b[1;33m\u001b[0m\u001b[0m\n\u001b[0;32m    794\u001b[0m             \u001b[0mself\u001b[0m\u001b[1;33m.\u001b[0m\u001b[0m_original_iterator\u001b[0m \u001b[1;33m=\u001b[0m \u001b[1;32mNone\u001b[0m\u001b[1;33m\u001b[0m\u001b[1;33m\u001b[0m\u001b[0m\n",
            "\u001b[1;32mc:\\Users\\evan.cope\\Documents\\GitHub\\30-Days-Of-ML-Competition\\env\\lib\\site-packages\\joblib\\parallel.py\u001b[0m in \u001b[0;36mdispatch_one_batch\u001b[1;34m(self, iterator)\u001b[0m\n\u001b[0;32m    857\u001b[0m                 \u001b[1;32mreturn\u001b[0m \u001b[1;32mFalse\u001b[0m\u001b[1;33m\u001b[0m\u001b[1;33m\u001b[0m\u001b[0m\n\u001b[0;32m    858\u001b[0m             \u001b[1;32melse\u001b[0m\u001b[1;33m:\u001b[0m\u001b[1;33m\u001b[0m\u001b[1;33m\u001b[0m\u001b[0m\n\u001b[1;32m--> 859\u001b[1;33m                 \u001b[0mself\u001b[0m\u001b[1;33m.\u001b[0m\u001b[0m_dispatch\u001b[0m\u001b[1;33m(\u001b[0m\u001b[0mtasks\u001b[0m\u001b[1;33m)\u001b[0m\u001b[1;33m\u001b[0m\u001b[1;33m\u001b[0m\u001b[0m\n\u001b[0m\u001b[0;32m    860\u001b[0m                 \u001b[1;32mreturn\u001b[0m \u001b[1;32mTrue\u001b[0m\u001b[1;33m\u001b[0m\u001b[1;33m\u001b[0m\u001b[0m\n\u001b[0;32m    861\u001b[0m \u001b[1;33m\u001b[0m\u001b[0m\n",
            "\u001b[1;32mc:\\Users\\evan.cope\\Documents\\GitHub\\30-Days-Of-ML-Competition\\env\\lib\\site-packages\\joblib\\parallel.py\u001b[0m in \u001b[0;36m_dispatch\u001b[1;34m(self, batch)\u001b[0m\n\u001b[0;32m    775\u001b[0m         \u001b[1;32mwith\u001b[0m \u001b[0mself\u001b[0m\u001b[1;33m.\u001b[0m\u001b[0m_lock\u001b[0m\u001b[1;33m:\u001b[0m\u001b[1;33m\u001b[0m\u001b[1;33m\u001b[0m\u001b[0m\n\u001b[0;32m    776\u001b[0m             \u001b[0mjob_idx\u001b[0m \u001b[1;33m=\u001b[0m \u001b[0mlen\u001b[0m\u001b[1;33m(\u001b[0m\u001b[0mself\u001b[0m\u001b[1;33m.\u001b[0m\u001b[0m_jobs\u001b[0m\u001b[1;33m)\u001b[0m\u001b[1;33m\u001b[0m\u001b[1;33m\u001b[0m\u001b[0m\n\u001b[1;32m--> 777\u001b[1;33m             \u001b[0mjob\u001b[0m \u001b[1;33m=\u001b[0m \u001b[0mself\u001b[0m\u001b[1;33m.\u001b[0m\u001b[0m_backend\u001b[0m\u001b[1;33m.\u001b[0m\u001b[0mapply_async\u001b[0m\u001b[1;33m(\u001b[0m\u001b[0mbatch\u001b[0m\u001b[1;33m,\u001b[0m \u001b[0mcallback\u001b[0m\u001b[1;33m=\u001b[0m\u001b[0mcb\u001b[0m\u001b[1;33m)\u001b[0m\u001b[1;33m\u001b[0m\u001b[1;33m\u001b[0m\u001b[0m\n\u001b[0m\u001b[0;32m    778\u001b[0m             \u001b[1;31m# A job can complete so quickly than its callback is\u001b[0m\u001b[1;33m\u001b[0m\u001b[1;33m\u001b[0m\u001b[1;33m\u001b[0m\u001b[0m\n\u001b[0;32m    779\u001b[0m             \u001b[1;31m# called before we get here, causing self._jobs to\u001b[0m\u001b[1;33m\u001b[0m\u001b[1;33m\u001b[0m\u001b[1;33m\u001b[0m\u001b[0m\n",
            "\u001b[1;32mc:\\Users\\evan.cope\\Documents\\GitHub\\30-Days-Of-ML-Competition\\env\\lib\\site-packages\\joblib\\_parallel_backends.py\u001b[0m in \u001b[0;36mapply_async\u001b[1;34m(self, func, callback)\u001b[0m\n\u001b[0;32m    529\u001b[0m     \u001b[1;32mdef\u001b[0m \u001b[0mapply_async\u001b[0m\u001b[1;33m(\u001b[0m\u001b[0mself\u001b[0m\u001b[1;33m,\u001b[0m \u001b[0mfunc\u001b[0m\u001b[1;33m,\u001b[0m \u001b[0mcallback\u001b[0m\u001b[1;33m=\u001b[0m\u001b[1;32mNone\u001b[0m\u001b[1;33m)\u001b[0m\u001b[1;33m:\u001b[0m\u001b[1;33m\u001b[0m\u001b[1;33m\u001b[0m\u001b[0m\n\u001b[0;32m    530\u001b[0m         \u001b[1;34m\"\"\"Schedule a func to be run\"\"\"\u001b[0m\u001b[1;33m\u001b[0m\u001b[1;33m\u001b[0m\u001b[0m\n\u001b[1;32m--> 531\u001b[1;33m         \u001b[0mfuture\u001b[0m \u001b[1;33m=\u001b[0m \u001b[0mself\u001b[0m\u001b[1;33m.\u001b[0m\u001b[0m_workers\u001b[0m\u001b[1;33m.\u001b[0m\u001b[0msubmit\u001b[0m\u001b[1;33m(\u001b[0m\u001b[0mSafeFunction\u001b[0m\u001b[1;33m(\u001b[0m\u001b[0mfunc\u001b[0m\u001b[1;33m)\u001b[0m\u001b[1;33m)\u001b[0m\u001b[1;33m\u001b[0m\u001b[1;33m\u001b[0m\u001b[0m\n\u001b[0m\u001b[0;32m    532\u001b[0m         \u001b[0mfuture\u001b[0m\u001b[1;33m.\u001b[0m\u001b[0mget\u001b[0m \u001b[1;33m=\u001b[0m \u001b[0mfunctools\u001b[0m\u001b[1;33m.\u001b[0m\u001b[0mpartial\u001b[0m\u001b[1;33m(\u001b[0m\u001b[0mself\u001b[0m\u001b[1;33m.\u001b[0m\u001b[0mwrap_future_result\u001b[0m\u001b[1;33m,\u001b[0m \u001b[0mfuture\u001b[0m\u001b[1;33m)\u001b[0m\u001b[1;33m\u001b[0m\u001b[1;33m\u001b[0m\u001b[0m\n\u001b[0;32m    533\u001b[0m         \u001b[1;32mif\u001b[0m \u001b[0mcallback\u001b[0m \u001b[1;32mis\u001b[0m \u001b[1;32mnot\u001b[0m \u001b[1;32mNone\u001b[0m\u001b[1;33m:\u001b[0m\u001b[1;33m\u001b[0m\u001b[1;33m\u001b[0m\u001b[0m\n",
            "\u001b[1;32mc:\\Users\\evan.cope\\Documents\\GitHub\\30-Days-Of-ML-Competition\\env\\lib\\site-packages\\joblib\\externals\\loky\\reusable_executor.py\u001b[0m in \u001b[0;36msubmit\u001b[1;34m(self, fn, *args, **kwargs)\u001b[0m\n\u001b[0;32m    175\u001b[0m     \u001b[1;32mdef\u001b[0m \u001b[0msubmit\u001b[0m\u001b[1;33m(\u001b[0m\u001b[0mself\u001b[0m\u001b[1;33m,\u001b[0m \u001b[0mfn\u001b[0m\u001b[1;33m,\u001b[0m \u001b[1;33m*\u001b[0m\u001b[0margs\u001b[0m\u001b[1;33m,\u001b[0m \u001b[1;33m**\u001b[0m\u001b[0mkwargs\u001b[0m\u001b[1;33m)\u001b[0m\u001b[1;33m:\u001b[0m\u001b[1;33m\u001b[0m\u001b[1;33m\u001b[0m\u001b[0m\n\u001b[0;32m    176\u001b[0m         \u001b[1;32mwith\u001b[0m \u001b[0mself\u001b[0m\u001b[1;33m.\u001b[0m\u001b[0m_submit_resize_lock\u001b[0m\u001b[1;33m:\u001b[0m\u001b[1;33m\u001b[0m\u001b[1;33m\u001b[0m\u001b[0m\n\u001b[1;32m--> 177\u001b[1;33m             return super(_ReusablePoolExecutor, self).submit(\n\u001b[0m\u001b[0;32m    178\u001b[0m                 fn, *args, **kwargs)\n\u001b[0;32m    179\u001b[0m \u001b[1;33m\u001b[0m\u001b[0m\n",
            "\u001b[1;32mc:\\Users\\evan.cope\\Documents\\GitHub\\30-Days-Of-ML-Competition\\env\\lib\\site-packages\\joblib\\externals\\loky\\process_executor.py\u001b[0m in \u001b[0;36msubmit\u001b[1;34m(self, fn, *args, **kwargs)\u001b[0m\n\u001b[0;32m   1100\u001b[0m         \u001b[1;32mwith\u001b[0m \u001b[0mself\u001b[0m\u001b[1;33m.\u001b[0m\u001b[0m_flags\u001b[0m\u001b[1;33m.\u001b[0m\u001b[0mshutdown_lock\u001b[0m\u001b[1;33m:\u001b[0m\u001b[1;33m\u001b[0m\u001b[1;33m\u001b[0m\u001b[0m\n\u001b[0;32m   1101\u001b[0m             \u001b[1;32mif\u001b[0m \u001b[0mself\u001b[0m\u001b[1;33m.\u001b[0m\u001b[0m_flags\u001b[0m\u001b[1;33m.\u001b[0m\u001b[0mbroken\u001b[0m \u001b[1;32mis\u001b[0m \u001b[1;32mnot\u001b[0m \u001b[1;32mNone\u001b[0m\u001b[1;33m:\u001b[0m\u001b[1;33m\u001b[0m\u001b[1;33m\u001b[0m\u001b[0m\n\u001b[1;32m-> 1102\u001b[1;33m                 \u001b[1;32mraise\u001b[0m \u001b[0mself\u001b[0m\u001b[1;33m.\u001b[0m\u001b[0m_flags\u001b[0m\u001b[1;33m.\u001b[0m\u001b[0mbroken\u001b[0m\u001b[1;33m\u001b[0m\u001b[1;33m\u001b[0m\u001b[0m\n\u001b[0m\u001b[0;32m   1103\u001b[0m             \u001b[1;32mif\u001b[0m \u001b[0mself\u001b[0m\u001b[1;33m.\u001b[0m\u001b[0m_flags\u001b[0m\u001b[1;33m.\u001b[0m\u001b[0mshutdown\u001b[0m\u001b[1;33m:\u001b[0m\u001b[1;33m\u001b[0m\u001b[1;33m\u001b[0m\u001b[0m\n\u001b[0;32m   1104\u001b[0m                 raise ShutdownExecutorError(\n",
            "\u001b[1;31mBrokenProcessPool\u001b[0m: A task has failed to un-serialize. Please ensure that the arguments of the function are all picklable."
          ]
        }
      ],
      "metadata": {
        "colab": {
          "base_uri": "https://localhost:8080/"
        },
        "id": "Mp_-7WnroBMO",
        "outputId": "f2c97d6d-89a6-4e16-f98c-d05485df28c5"
      }
    },
    {
      "cell_type": "code",
      "execution_count": 16,
      "source": [
        "# Evaluate the random search model:\r\n",
        "def evaluate(model, test_features, test_labels):\r\n",
        "  predictions = model.predict(test_features)\r\n",
        "  errors = abs(predictions - test_labels)\r\n",
        "  mape = 100 * np.mean(errors / test_labels)\r\n",
        "  accuracy = 100 - mape\r\n",
        "  print('Model Performance')\r\n",
        "  print('Average Error: {:0.4f} degrees.'.format(np.mean(errors)))\r\n",
        "  print('Accuracy = {:0.2f}%.'.format(accuracy))\r\n",
        "    \r\n",
        "  return accuracy\r\n",
        "\r\n",
        "\r\n",
        "evaluate(xgb_grid, X_processed, y_train)\r\n"
      ],
      "outputs": [
        {
          "output_type": "stream",
          "name": "stdout",
          "text": [
            "Model Performance\n",
            "Average Error: 0.5511 degrees.\n",
            "Accuracy = 93.22%.\n"
          ]
        },
        {
          "output_type": "execute_result",
          "data": {
            "text/plain": [
              "93.21899424695492"
            ]
          },
          "metadata": {},
          "execution_count": 16
        }
      ],
      "metadata": {
        "id": "AK6dZv3AqBNt"
      }
    },
    {
      "cell_type": "markdown",
      "source": [
        "#### Create a Pipeline"
      ],
      "metadata": {
        "id": "pw853VjebsIu"
      }
    },
    {
      "cell_type": "code",
      "execution_count": 17,
      "source": [
        "\r\n",
        "my_pipeline = Pipeline(\r\n",
        "    steps=[\r\n",
        "      ('preprocessor', preprocessor),\r\n",
        "      ('model', XGBRegressor(\r\n",
        "                  n_estimators=1000,\r\n",
        "                  learning_rate=0.03,\r\n",
        "                  random_state=0,\r\n",
        "                  n_jobs=-1,\r\n",
        "                  early_stopping_rounds=10,\r\n",
        "                  eval_set=([X_validate_processed, y_validate]),\r\n",
        "                  subsample=0.85,\r\n",
        "                  colsample_bytree=0.3,\r\n",
        "                  min_child_weight=5,\r\n",
        "                  min_split_loss=0.06,\r\n",
        "                  #tree_method='gpu_hist',\r\n",
        "                  #gpu_id=0\r\n",
        "                )\r\n",
        "      ),\r\n",
        "    ]\r\n",
        ")\r\n"
      ],
      "outputs": [],
      "metadata": {
        "id": "WlZvv025bvOU"
      }
    },
    {
      "cell_type": "markdown",
      "source": [
        "#### Train the Model"
      ],
      "metadata": {
        "id": "h3B5mTAocG5Y"
      }
    },
    {
      "cell_type": "code",
      "execution_count": 18,
      "source": [
        "my_pipeline.fit(X_train, y_train)"
      ],
      "outputs": [
        {
          "output_type": "stream",
          "name": "stdout",
          "text": [
            "[10:33:25] WARNING: C:/Users/Administrator/workspace/xgboost-win64_release_1.4.0/src/learner.cc:573: \n",
            "Parameters: { \"early_stopping_rounds\", \"eval_set\" } might not be used.\n",
            "\n",
            "  This may not be accurate due to some parameters are only used in language bindings but\n",
            "  passed down to XGBoost core.  Or some parameters are not used but slip through this\n",
            "  verification. Please open an issue if you find above cases.\n",
            "\n",
            "\n"
          ]
        },
        {
          "output_type": "execute_result",
          "data": {
            "text/plain": [
              "Pipeline(steps=[('preprocessor',\n",
              "                 ColumnTransformer(transformers=[('cat',\n",
              "                                                  Pipeline(steps=[('imputer',\n",
              "                                                                   SimpleImputer(strategy='most_frequent')),\n",
              "                                                                  ('ordinal',\n",
              "                                                                   OrdinalEncoder())]),\n",
              "                                                  ['cat5', 'cat8']),\n",
              "                                                 ('num',\n",
              "                                                  Pipeline(steps=[('simple',\n",
              "                                                                   SimpleImputer(strategy='constant'))]),\n",
              "                                                  ['cont0', 'cont1', 'cont2',\n",
              "                                                   'cont3', 'cont4', 'cont5',\n",
              "                                                   'cont6', 'cont7', 'cont8',\n",
              "                                                   'cont9', 'cont10', 'c...\n",
              "                              importance_type='gain',\n",
              "                              interaction_constraints='', learning_rate=0.03,\n",
              "                              max_delta_step=0, max_depth=6, min_child_weight=5,\n",
              "                              min_split_loss=0.06, missing=nan,\n",
              "                              monotone_constraints='()', n_estimators=1000,\n",
              "                              n_jobs=-1, num_parallel_tree=1, random_state=0,\n",
              "                              reg_alpha=0, reg_lambda=1, scale_pos_weight=1,\n",
              "                              subsample=0.85, tree_method='exact',\n",
              "                              validate_parameters=1, verbosity=None))])"
            ]
          },
          "metadata": {},
          "execution_count": 18
        }
      ],
      "metadata": {
        "colab": {
          "base_uri": "https://localhost:8080/"
        },
        "id": "kjtLCzNxcI0g",
        "outputId": "bc356d9c-7d92-442b-c2e0-0ec498bbecec"
      }
    },
    {
      "cell_type": "markdown",
      "source": [
        "---\n",
        "### **Step 5: Evaluate Our Model**\n"
      ],
      "metadata": {
        "id": "w1rLLfu1cYXb"
      }
    },
    {
      "cell_type": "code",
      "execution_count": 19,
      "source": [
        "# Generate predictions on the validation set:\r\n",
        "pred_validate = my_pipeline.predict(X_validate)\r\n",
        "\r\n",
        "# Score Our Predictions -- using mean root squared error\r\n",
        "mse = mean_squared_error(y_validate, pred_validate, squared=False)\r\n",
        "\r\n",
        "print(\"MSE: \", round(mse, 7))\r\n"
      ],
      "outputs": [
        {
          "output_type": "stream",
          "name": "stdout",
          "text": [
            "MSE:  0.722733\n"
          ]
        }
      ],
      "metadata": {
        "colab": {
          "base_uri": "https://localhost:8080/"
        },
        "id": "E5-IQxyvci_4",
        "outputId": "e8c49da2-85a7-419c-dc9c-d182db4925a3"
      }
    },
    {
      "cell_type": "markdown",
      "source": [
        "#### Determine Feature Importance"
      ],
      "metadata": {
        "id": "4321qGE5eACR"
      }
    },
    {
      "cell_type": "markdown",
      "source": [
        "---\n",
        "### **Final Step: Create the Submission File**"
      ],
      "metadata": {
        "id": "q7ebkp2ieZ9J"
      }
    },
    {
      "cell_type": "code",
      "execution_count": 20,
      "source": [
        "X_test = X_test.drop(dropped_features, axis=1)\r\n",
        "#Add features:\r\n",
        "X_test[\"cat1_A\"] = testing_df[\"cat1\"].apply(lambda x: 1 if x == \"A\" else 0)\r\n",
        "X_test[\"cat8_C\"] = testing_df[\"cat8\"].apply(lambda x: 1 if x == \"C\" else 0)\r\n",
        "X_test[\"cat8_E\"] = testing_df[\"cat8\"].apply(lambda x: 1 if x == \"E\" else 0)\r\n",
        "\r\n",
        "\r\n",
        "# Use the model to make predictions:\r\n",
        "predictions = my_pipeline.predict(X_test)\r\n",
        "\r\n",
        "# Save the predictions to a CSV file:\r\n",
        "output = pd.DataFrame({\r\n",
        "    'Id': X_test.index,\r\n",
        "    'target': predictions,\r\n",
        "})\r\n",
        "\r\n",
        "output.to_csv(\"submission.csv\", index=False)\r\n"
      ],
      "outputs": [],
      "metadata": {
        "id": "n2gut3YEeftg"
      }
    }
  ]
}